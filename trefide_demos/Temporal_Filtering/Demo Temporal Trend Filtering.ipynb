{
 "cells": [
  {
   "cell_type": "code",
   "execution_count": 1,
   "metadata": {},
   "outputs": [],
   "source": [
    "%matplotlib inline\n",
    "%load_ext autoreload\n",
    "%autoreload 2"
   ]
  },
  {
   "cell_type": "markdown",
   "metadata": {},
   "source": [
    "# Prepare Data"
   ]
  },
  {
   "cell_type": "code",
   "execution_count": 2,
   "metadata": {},
   "outputs": [],
   "source": [
    "import numpy as np\n",
    "import matplotlib.pyplot as plt\n",
    "import trefide.preprocess as preprocess\n",
    "from trefide.pmd import batch_decompose \n",
    "import scipy.io as io"
   ]
  },
  {
   "cell_type": "code",
   "execution_count": 4,
   "metadata": {},
   "outputs": [],
   "source": [
    "X = np.load(\"../../data/demoMovie.npy\")\n",
    "X = np.tile(X, (10, 1))\n",
    "d1, d2, T = X.shape\n",
    "\n",
    "K = 50\n",
    "maxiter = 50\n",
    "consec_failures = 3\n",
    "tol = 5e-3\n",
    "bheight = 40\n",
    "bwidth = 40\n",
    "spatial_cutoff = (bheight*bwidth / ((bheight*(bwidth-1) + bwidth*(bheight-1))))\n",
    "w = .0025\n",
    "\n",
    "U, V, K, indices = batch_decompose(d1, d2, T, X, bheight, bwidth, w, spatial_cutoff, K, consec_failures, maxiter, maxiter, tol)"
   ]
  },
  {
   "cell_type": "code",
   "execution_count": null,
   "metadata": {},
   "outputs": [],
   "source": [
    "# Load Data\n",
    "# stim = io.loadmat(\"../../data/sampleMovie.mat\")['stimulationSignal'][1:-50].squeeze()\n",
    "# data = io.loadmat(\"../../data/post_demix.mat\")\n",
    "stim = np.load(\"../../data/demoMovie.npy\")\n",
    "# N, T = data['C'].shape\n",
    "# signals = data['C']"
   ]
  },
  {
   "cell_type": "code",
   "execution_count": null,
   "metadata": {},
   "outputs": [],
   "source": [
    "signals, trends, stim, disc_idx = preprocess.detrend(signals, stim, disc_idx=np.array([5]))"
   ]
  },
  {
   "cell_type": "code",
   "execution_count": null,
   "metadata": {},
   "outputs": [],
   "source": [
    "signals = signals.copy() # make sure signals contiguous in memory"
   ]
  },
  {
   "cell_type": "code",
   "execution_count": null,
   "metadata": {},
   "outputs": [],
   "source": [
    "T = len(stim)\n",
    "idx = np.random.randint(0, N)\n",
    "signal = signals[idx,:]"
   ]
  },
  {
   "cell_type": "code",
   "execution_count": null,
   "metadata": {},
   "outputs": [],
   "source": [
    "fig, ax = plt.subplots(figsize=(12, 6))\n",
    "ax.plot(np.arange(T), signal+trends[idx,:], 'r')\n",
    "ax.plot(np.arange(T), trends[idx,:], 'b')\n",
    "\n",
    "ax.set(xlabel='time', ylabel='Fluorescence',\n",
    "       title='Slow Trend Fluorescence Neuron {}'.format(idx+1))\n",
    "ax.grid()\n",
    "\n",
    "plt.show()"
   ]
  },
  {
   "cell_type": "markdown",
   "metadata": {},
   "source": [
    "# Instantial and Fit A Trend Filtering Object for Each Signal"
   ]
  },
  {
   "cell_type": "code",
   "execution_count": null,
   "metadata": {},
   "outputs": [],
   "source": [
    "from trefide.temporal import TrendFilter"
   ]
  },
  {
   "cell_type": "code",
   "execution_count": null,
   "metadata": {},
   "outputs": [],
   "source": [
    "filters = [TrendFilter(len(signal)) for signal in signals]"
   ]
  },
  {
   "cell_type": "code",
   "execution_count": null,
   "metadata": {},
   "outputs": [],
   "source": [
    "denoised = np.asarray([filt.denoise(signal) for signal, filt in zip(signals, filters)])"
   ]
  },
  {
   "cell_type": "code",
   "execution_count": null,
   "metadata": {
    "scrolled": false
   },
   "outputs": [],
   "source": [
    "fig, ax = plt.subplots(nrows=int(np.ceil(len(signals)/2)), ncols=2, figsize=(16, 3 * np.ceil(len(signals)/2)))\n",
    "\n",
    "for idx, (noisey, smooth) in enumerate(zip(signals, denoised)):\n",
    "    ax[int(np.floor(idx/2)), int(idx%2)].plot(np.arange(T), noisey + trends[idx], 'r')\n",
    "    ax[int(np.floor(idx/2)), int(idx%2)].plot(np.arange(T), smooth + trends[idx,:], 'b')\n",
    "    ax[int(np.floor(idx/2)), int(idx%2)].set(xlabel='time', ylabel='Fluorescence',\n",
    "                                             title='Slow Trend Fluorescence Neuron {}'.format(idx+1))\n",
    "    ax[int(np.floor(idx/2)), int(idx%2)].grid()\n",
    "\n",
    "plt.tight_layout()\n",
    "plt.show()"
   ]
  }
 ],
 "metadata": {
  "kernelspec": {
   "display_name": "Python 3",
   "language": "python",
   "name": "python3"
  },
  "language_info": {
   "codemirror_mode": {
    "name": "ipython",
    "version": 3
   },
   "file_extension": ".py",
   "mimetype": "text/x-python",
   "name": "python",
   "nbconvert_exporter": "python",
   "pygments_lexer": "ipython3",
   "version": "3.8.2"
  }
 },
 "nbformat": 4,
 "nbformat_minor": 2
}
